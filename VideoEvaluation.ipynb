{
 "cells": [
  {
   "cell_type": "markdown",
   "metadata": {
    "toc": true
   },
   "source": [
    "<h1>Table of Contents<span class=\"tocSkip\"></span></h1>\n",
    "<div class=\"toc\"><ul class=\"toc-item\"></ul></div>"
   ]
  },
  {
   "cell_type": "code",
   "execution_count": 1,
   "metadata": {},
   "outputs": [],
   "source": [
    "%matplotlib inline\n",
    "\n",
    "\n",
    "%load_ext autoreload\n",
    "%autoreload 2"
   ]
  },
  {
   "cell_type": "code",
   "execution_count": 2,
   "metadata": {},
   "outputs": [
    {
     "name": "stdout",
     "output_type": "stream",
     "text": [
      "Video for drake not found, downloading now.\n"
     ]
    },
    {
     "data": {
      "application/vnd.jupyter.widget-view+json": {
       "model_id": "b03a09704bc94678a06216c9cfcf1d6f",
       "version_major": 2,
       "version_minor": 0
      },
      "text/plain": [
       "HBox(children=(FloatProgress(value=0.0, max=17885427.0), HTML(value='')))"
      ]
     },
     "metadata": {},
     "output_type": "display_data"
    },
    {
     "name": "stdout",
     "output_type": "stream",
     "text": [
      "\n",
      "Video for lorikeet not found, downloading now.\n"
     ]
    },
    {
     "data": {
      "application/vnd.jupyter.widget-view+json": {
       "model_id": "ac65ea2ae52b4f219947bbcd8926d68b",
       "version_major": 2,
       "version_minor": 0
      },
      "text/plain": [
       "HBox(children=(FloatProgress(value=0.0, max=308795.0), HTML(value='')))"
      ]
     },
     "metadata": {},
     "output_type": "display_data"
    },
    {
     "name": "stdout",
     "output_type": "stream",
     "text": [
      "\n",
      "Video for zebra not found, downloading now.\n"
     ]
    },
    {
     "data": {
      "application/vnd.jupyter.widget-view+json": {
       "model_id": "7940b070867a44c197a89fe334883a4f",
       "version_major": 2,
       "version_minor": 0
      },
      "text/plain": [
       "HBox(children=(FloatProgress(value=0.0, max=1199190.0), HTML(value='')))"
      ]
     },
     "metadata": {},
     "output_type": "display_data"
    },
    {
     "name": "stdout",
     "output_type": "stream",
     "text": [
      "\n",
      "Done.\n"
     ]
    }
   ],
   "source": [
    "import numpy as np\n",
    "from experiments.Imagenet.bcos.model import get_model\n",
    "from experiments.Imagenet.bcos.experiment_parameters import exps\n",
    "from interpretability.utils import explanation_mode\n",
    "from project_utils import get_videos\n",
    "from data.data_handler import Data\n",
    "import seaborn as sns\n",
    "from IPython.display import HTML, display\n",
    "from os.path import join\n",
    "sns.set_style(\"white\")\n",
    "get_videos()\n",
    "path = \"docs/media/gifs\""
   ]
  },
  {
   "cell_type": "code",
   "execution_count": 3,
   "metadata": {},
   "outputs": [],
   "source": [
    "exp_params = exps[\"densenet_121_cossched\"]\n",
    "data = Data(\"Imagenet\", only_test_loader=True, **exp_params)\n",
    "data_loader = data.get_test_loader()\n",
    "\n",
    "model = get_model(exp_params).cuda()\n",
    "explanation_mode(model)"
   ]
  },
  {
   "cell_type": "code",
   "execution_count": 4,
   "metadata": {},
   "outputs": [],
   "source": [
    "from interpretability.eval_on_video import load_video, most_predicted, process_video, save_video"
   ]
  },
  {
   "cell_type": "code",
   "execution_count": 5,
   "metadata": {},
   "outputs": [],
   "source": [
    "videos = {\n",
    "    \"drake\" : \"resources/drake.mp4\",\n",
    "    \"lorikeet\" : \"resources/lorikeet.mp4\",\n",
    "    \"zebra\" : \"resources/zebra.mp4\",\n",
    "}\n",
    "times = {\n",
    "    \"drake\" : [0, .2],\n",
    "    \"lorikeet\" : [.1, .6],\n",
    "    \"zebra\" : [0, 1],\n",
    "}\n",
    "\n"
   ]
  },
  {
   "cell_type": "code",
   "execution_count": 8,
   "metadata": {},
   "outputs": [
    {
     "name": "stdout",
     "output_type": "stream",
     "text": [
      "Loading video for drake.\n",
      "Evaluating video with model.\n",
      "No class index provided, calculating most predicted class.\n",
      "Most predicted class: 97\n",
      "Saving output.\n",
      "GIF saved under docs/media/gifs/drake.gif\n"
     ]
    },
    {
     "data": {
      "text/html": [
       "<img src=\"docs/media/gifs/drake.gif?932\" alt=\"Explanation and Original\" height=\"100\">"
      ],
      "text/plain": [
       "<IPython.core.display.HTML object>"
      ]
     },
     "metadata": {},
     "output_type": "display_data"
    },
    {
     "name": "stdout",
     "output_type": "stream",
     "text": [
      "Loading video for lorikeet.\n",
      "Evaluating video with model.\n",
      "No class index provided, calculating most predicted class.\n",
      "Most predicted class: 90\n",
      "Saving output.\n",
      "GIF saved under docs/media/gifs/lorikeet.gif\n"
     ]
    },
    {
     "data": {
      "text/html": [
       "<img src=\"docs/media/gifs/lorikeet.gif?138\" alt=\"Explanation and Original\" height=\"100\">"
      ],
      "text/plain": [
       "<IPython.core.display.HTML object>"
      ]
     },
     "metadata": {},
     "output_type": "display_data"
    },
    {
     "name": "stdout",
     "output_type": "stream",
     "text": [
      "Loading video for zebra.\n",
      "Evaluating video with model.\n",
      "No class index provided, calculating most predicted class.\n",
      "Most predicted class: 340\n",
      "Saving output.\n",
      "GIF saved under docs/media/gifs/zebra.gif\n"
     ]
    },
    {
     "data": {
      "text/html": [
       "<img src=\"docs/media/gifs/zebra.gif?5\" alt=\"Explanation and Original\" height=\"100\">"
      ],
      "text/plain": [
       "<IPython.core.display.HTML object>"
      ]
     },
     "metadata": {},
     "output_type": "display_data"
    }
   ],
   "source": [
    "for example, vpath in videos.items():\n",
    "    print(f\"Loading video for {example}.\")\n",
    "    video, fps = load_video(vpath, relative_times=times[example])\n",
    "    print(\"Evaluating video with model.\")\n",
    "    imgs, atts = process_video(model, img_transforms=data_loader.dataset.transform, video=video)\n",
    "    print(\"Saving output.\")\n",
    "    save_video(imgs, atts, fps, gif_name=f\"{example}.gif\", path=path)\n",
    "    \n",
    "    display(HTML(f'<img src=\"{join(path, example)}.gif?{np.random.randint(1000)}\" ' + # hack to avoid loading cached image...\n",
    "             'alt=\"Explanation and Original\" ' +\n",
    "             'height=\"100\">'))"
   ]
  },
  {
   "cell_type": "code",
   "execution_count": null,
   "metadata": {},
   "outputs": [],
   "source": []
  }
 ],
 "metadata": {
  "kernelspec": {
   "display_name": "Python [conda env:torch1.6] *",
   "language": "python",
   "name": "conda-env-torch1.6-py"
  },
  "language_info": {
   "codemirror_mode": {
    "name": "ipython",
    "version": 3
   },
   "file_extension": ".py",
   "mimetype": "text/x-python",
   "name": "python",
   "nbconvert_exporter": "python",
   "pygments_lexer": "ipython3",
   "version": "3.7.5"
  },
  "toc": {
   "base_numbering": 1,
   "nav_menu": {},
   "number_sections": true,
   "sideBar": true,
   "skip_h1_title": false,
   "title_cell": "Table of Contents",
   "title_sidebar": "Contents",
   "toc_cell": true,
   "toc_position": {},
   "toc_section_display": true,
   "toc_window_display": false
  },
  "varInspector": {
   "cols": {
    "lenName": 16,
    "lenType": 16,
    "lenVar": 40
   },
   "kernels_config": {
    "python": {
     "delete_cmd_postfix": "",
     "delete_cmd_prefix": "del ",
     "library": "var_list.py",
     "varRefreshCmd": "print(var_dic_list())"
    },
    "r": {
     "delete_cmd_postfix": ") ",
     "delete_cmd_prefix": "rm(",
     "library": "var_list.r",
     "varRefreshCmd": "cat(var_dic_list()) "
    }
   },
   "types_to_exclude": [
    "module",
    "function",
    "builtin_function_or_method",
    "instance",
    "_Feature"
   ],
   "window_display": false
  }
 },
 "nbformat": 4,
 "nbformat_minor": 2
}
